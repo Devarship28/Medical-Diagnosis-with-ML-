```python
# EDA & Modeling Notebook
import pandas as pd
import matplotlib.pyplot as plt
import seaborn as sns
from src.data_preprocessing import load_data, preprocess_data, train_val_test_split
from src.modeling import train_models, evaluate_model, save_model
from src.utils import plot_corr, plot_histograms

# Load dataset
df = load_data("../data/diabetes.csv")

# EDA
print(df.head())
plot_histograms(df)
plot_corr(df)

# Preprocess
X, y = preprocess_data(df, target_col='Outcome')

# Split
X_train, X_val, X_test, y_train, y_val, y_test = train_val_test_split(X, y)

# Train
models = train_models(X_train, y_train)

# Evaluate
for name, model in models.items():
    print(f"Evaluating {name}:")
    results = evaluate_model(model, X_val, y_val)
    print(results['report'])
    print("ROC-AUC:", results['roc_auc'])

# Choose best model (example: Random Forest)
best_model = models['Random Forest']
save_model(best_model, "../models/best_model.joblib")
```